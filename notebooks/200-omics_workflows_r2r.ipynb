{
 "cells": [
  {
   "cell_type": "markdown",
   "id": "01679a33",
   "metadata": {},
   "source": [
    "# Running R2R (Ready to Run) workflows"
   ]
  },
  {
   "cell_type": "markdown",
   "id": "21115846",
   "metadata": {},
   "source": [
    "In this tutorial, you will learn how to run any of the existing READY2RUN Omics Workflows."
   ]
  },
  {
   "cell_type": "markdown",
   "id": "0d3fd7f6",
   "metadata": {},
   "source": [
    "## Prerequisites\n",
    "### Python requirements\n",
    "* Python >= 3.8\n",
    "* Packages:\n",
    "  * boto3 >= 1.26.19\n",
    "  * botocore >= 1.29.19\n",
    "\n",
    "### AWS requirements\n",
    "\n",
    "#### AWS CLI\n",
    "You will need the AWS CLI installed and configured in your environment. Supported AWS CLI versions are:\n",
    "\n",
    "* AWS CLI v2 >= 2.9.3 (Recommended)\n",
    "* AWS CLI v1 >= 1.27.19\n",
    "\n",
    "#### Output buckets\n",
    "You will need a bucket **in the same region** you are running this tutorial in to store workflow outputs."
   ]
  },
  {
   "cell_type": "markdown",
   "id": "f86339cd-c9ab-4512-80e0-fe55da1fe130",
   "metadata": {},
   "source": [
    "## Policy setup\n",
    "This notebook runs under the role that was created or selected during notebook creation.<br>\n",
    "By executing the following code snippet we can crosscheck the role name."
   ]
  },
  {
   "cell_type": "code",
   "execution_count": 171,
   "id": "cb63b334-d212-4ae2-bb6d-694680bbdad8",
   "metadata": {},
   "outputs": [
    {
     "data": {
      "text/plain": [
       "'arn:aws:sts::869795389844:assumed-role/AmazonSageMaker-ExecutionRole-20230514T131742/SageMaker'"
      ]
     },
     "execution_count": 171,
     "metadata": {},
     "output_type": "execute_result"
    }
   ],
   "source": [
    "boto3.client('sts').get_caller_identity()['Arn']"
   ]
  },
  {
   "cell_type": "markdown",
   "id": "d4adc94b-c990-4ca7-80f2-321d90a1572f",
   "metadata": {},
   "source": [
    "We need to enrich this role with policy permissions, so that actions executed in upcoming statements do not fail.<br>\n",
    "Here is a sample policy that can to be added to the role. It must be noted that this is a sample policy, for the needs of this workshop.<br>\n",
    "In a production environment, actual policy must be much more restrictive."
   ]
  },
  {
   "cell_type": "code",
   "execution_count": 172,
   "id": "c8af2e5f-8483-40df-9905-bba311621469",
   "metadata": {},
   "outputs": [
    {
     "data": {
      "text/plain": [
       "{'Version': '2012-10-17',\n",
       " 'Statement': [{'Sid': 'VisualEditor0',\n",
       "   'Effect': 'Allow',\n",
       "   'Action': ['iam:GetPolicy',\n",
       "    'iam:CreatePolicy',\n",
       "    'iam:DeletePolicy',\n",
       "    'iam:ListPolicyVersions',\n",
       "    'iam:ListEntitiesForPolicy',\n",
       "    'iam:CreateRole',\n",
       "    'iam:DeleteRole',\n",
       "    'iam:DeletePolicyVersion',\n",
       "    'iam:AttachRolePolicy',\n",
       "    'iam:DetachRolePolicy',\n",
       "    'iam:ListAttachedRolePolicies',\n",
       "    'omics:*'],\n",
       "   'Resource': '*'}]}"
      ]
     },
     "execution_count": 172,
     "metadata": {},
     "output_type": "execute_result"
    }
   ],
   "source": [
    "{\n",
    "    \"Version\": \"2012-10-17\",\n",
    "    \"Statement\": [\n",
    "        {\n",
    "            \"Sid\": \"VisualEditor0\",\n",
    "            \"Effect\": \"Allow\",\n",
    "            \"Action\": [\n",
    "                \"iam:GetPolicy\",\n",
    "                \"iam:CreatePolicy\",\n",
    "                \"iam:DeletePolicy\",\n",
    "                \"iam:ListPolicyVersions\",\n",
    "                \"iam:ListEntitiesForPolicy\",\n",
    "                \"iam:CreateRole\",\n",
    "                \"iam:DeleteRole\",\n",
    "                \"iam:DeletePolicyVersion\",\n",
    "                \"iam:AttachRolePolicy\",\n",
    "                \"iam:DetachRolePolicy\",\n",
    "                \"iam:ListAttachedRolePolicies\",\n",
    "                \"omics:*\"\n",
    "            ],\n",
    "            \"Resource\": \"*\"\n",
    "        }\n",
    "    ]\n",
    "}"
   ]
  },
  {
   "cell_type": "markdown",
   "id": "b25326f3",
   "metadata": {},
   "source": [
    "## Environment setup"
   ]
  },
  {
   "cell_type": "markdown",
   "id": "2a1b66f3-5f44-4ad2-bdd2-6bfb369ab55f",
   "metadata": {},
   "source": [
    "Reset environment, in case you are re-running this tutorial.<br> Load helper functions from helper notebook."
   ]
  },
  {
   "cell_type": "code",
   "execution_count": 173,
   "id": "d09d8022-36e0-4875-85f8-4119a9971998",
   "metadata": {
    "tags": []
   },
   "outputs": [],
   "source": [
    "%reset -f\n",
    "%run 200-omics_helper_functions.ipynb"
   ]
  },
  {
   "cell_type": "markdown",
   "id": "0175894a-469c-4733-9ec5-29ed2c3fff3e",
   "metadata": {},
   "source": [
    "Import libraries"
   ]
  },
  {
   "cell_type": "code",
   "execution_count": 174,
   "id": "788ade24",
   "metadata": {},
   "outputs": [],
   "source": [
    "import json\n",
    "from datetime import datetime\n",
    "import glob\n",
    "import io\n",
    "import os\n",
    "from pprint import pprint\n",
    "from textwrap import dedent\n",
    "from time import sleep\n",
    "from urllib.parse import urlparse\n",
    "from zipfile import ZipFile, ZIP_DEFLATED\n",
    "\n",
    "import boto3\n",
    "import botocore.exceptions"
   ]
  },
  {
   "cell_type": "markdown",
   "id": "b878b01a",
   "metadata": {},
   "source": [
    "## Create a service IAM role\n",
    "To use Amazon Omics, you need to create an IAM role that grants the service permissions to access resources in your account. We'll do this below using the IAM client.\n",
    "\n",
    "> **Note**: this step is fully automated from the Omics Workflows Console when you create a run"
   ]
  },
  {
   "cell_type": "code",
   "execution_count": 175,
   "id": "d5a7b7ac",
   "metadata": {},
   "outputs": [],
   "source": [
    "omics_role_name = 'omics-r2r-tutorial-service-role'\n",
    "omics_role_trust_policy =  {\n",
    "        \"Version\": \"2012-10-17\",\n",
    "        \"Statement\": [{\n",
    "            \"Principal\": {\n",
    "                \"Service\": \"omics.amazonaws.com\"\n",
    "            },\n",
    "            \"Effect\": \"Allow\",\n",
    "            \"Action\": \"sts:AssumeRole\"\n",
    "        }]\n",
    "    }\n",
    "\n",
    "# delete role (if it exists) and create a new one\n",
    "omics_role = recreate_role(omics_role_name, omics_role_trust_policy)\n"
   ]
  },
  {
   "cell_type": "markdown",
   "id": "ee9b0e33",
   "metadata": {},
   "source": [
    "After creating the role, we next need to add policies to grant permissions. In this case, we are allowing read/write access to all S3 buckets in the account. This is fine for this tutorial, but in a real world setting you will want to scope this down to only the necessary resources. We are also adding a permissions to create CloudWatch Logs which is where any outputs sent to `STDOUT` or `STDERR` are collected."
   ]
  },
  {
   "cell_type": "code",
   "execution_count": 176,
   "id": "fccbdeec",
   "metadata": {},
   "outputs": [
    {
     "data": {
      "text/plain": [
       "{'ResponseMetadata': {'RequestId': 'ac30fa45-af92-4fd2-8619-43cc2bd4b02a',\n",
       "  'HTTPStatusCode': 200,\n",
       "  'HTTPHeaders': {'x-amzn-requestid': 'ac30fa45-af92-4fd2-8619-43cc2bd4b02a',\n",
       "   'content-type': 'text/xml',\n",
       "   'content-length': '212',\n",
       "   'date': 'Wed, 28 Jun 2023 08:52:43 GMT'},\n",
       "  'RetryAttempts': 0}}"
      ]
     },
     "execution_count": 176,
     "metadata": {},
     "output_type": "execute_result"
    }
   ],
   "source": [
    "s3_policy_name = f\"omics-r2r-tutorial-s3-access-policy\"\n",
    "s3_policy_permissions = {\n",
    "        \"Version\": \"2012-10-17\",\n",
    "        \"Statement\": [\n",
    "            {\n",
    "                \"Effect\": \"Allow\",\n",
    "                \"Action\": [\n",
    "                    \"s3:PutObject\",\n",
    "                    \"s3:Get*\",\n",
    "                    \"s3:List*\",\n",
    "                ],\n",
    "                \"Resource\": [\n",
    "                    \"arn:aws:s3:::*/*\"\n",
    "                ]\n",
    "            }\n",
    "        ]\n",
    "    }\n",
    "\n",
    "AWS_ACCOUNT_ID = boto3.client('sts').get_caller_identity()['Account']\n",
    "\n",
    "logs_policy_name = f\"omics-r2r-tutorial-logs-access-policy\"\n",
    "logs_policy_permissions = {\n",
    "        \"Version\": \"2012-10-17\",\n",
    "        \"Statement\": [\n",
    "            {\n",
    "                \"Effect\": \"Allow\",\n",
    "                \"Action\": [\n",
    "                    \"logs:CreateLogGroup\"\n",
    "                ],\n",
    "                \"Resource\": [\n",
    "                    f\"arn:aws:logs:*:{AWS_ACCOUNT_ID}:log-group:/aws/omics/WorkflowLog:*\"\n",
    "                ]\n",
    "            },\n",
    "            {\n",
    "                \"Effect\": \"Allow\",\n",
    "                \"Action\": [\n",
    "                    \"logs:DescribeLogStreams\",\n",
    "                    \"logs:CreateLogStream\",\n",
    "                    \"logs:PutLogEvents\",\n",
    "                ],\n",
    "                \"Resource\": [\n",
    "                    f\"arn:aws:logs:*:{AWS_ACCOUNT_ID}:log-group:/aws/omics/WorkflowLog:log-stream:*\"\n",
    "                ]\n",
    "            }\n",
    "        ]\n",
    "    }\n",
    "\n",
    "s3_policy = recreate_policy(s3_policy_name, s3_policy_permissions)\n",
    "logs_policy = recreate_policy(logs_policy_name, logs_policy_permissions)\n",
    "\n",
    "# attach policies to role\n",
    "iam_client = boto3.client(\"iam\")\n",
    "iam_client.attach_role_policy(RoleName=omics_role['Role']['RoleName'], PolicyArn=s3_policy['Policy']['Arn'])\n",
    "iam_client.attach_role_policy(RoleName=omics_role['Role']['RoleName'], PolicyArn=logs_policy['Policy']['Arn'])"
   ]
  },
  {
   "cell_type": "markdown",
   "id": "a1db3648",
   "metadata": {},
   "source": [
    "## Getting the list of READY2RUN workflows\n",
    "Using the omics client we can get the full list of READY2RUN workflows.\n",
    "Here, we print the id, name properties of workflows, in order to have a quick view."
   ]
  },
  {
   "cell_type": "code",
   "execution_count": 177,
   "id": "51854f6e",
   "metadata": {},
   "outputs": [
    {
     "name": "stdout",
     "output_type": "stream",
     "text": [
      "6094971 \t AlphaFold for 601-1200 residues\n",
      "3768383 \t GATK-BP fq2bam\n",
      "7330987 \t NVIDIA Parabricks Germline DeepVariant WGS for up to 30X\n",
      "5562080 \t GATK-BP Somatic WES bam2vcf\n",
      "2174942 \t scRNAseq with STARsolo\n",
      "9500764 \t GATK-BP Germline fq2vcf for 30x genome\n",
      "4523502 \t NVIDIA Parabricks BAM2FQ2BAM WGS for up to 5X\n",
      "2009847 \t Sentieon Germline BAM WES for up to 300x\n",
      "4484039 \t Sentieon Germline FASTQ WES for up to 100x\n",
      "3021525 \t NVIDIA Parabricks Germline HaplotypeCaller WGS for up to 30X\n",
      "4885129 \t AlphaFold for up to 600 residues\n",
      "6914655 \t Sentieon LongRead for PacBio HiFi\n",
      "1305211 \t Sentieon Somatic WES\n",
      "5221318 \t NVIDIA Parabricks BAM2FQ2BAM WGS for up to 30X\n",
      "2647398 \t NVIDIA Parabricks FQ2BAM WGS for up to 5X\n",
      "3585800 \t NVIDIA Parabricks Germline DeepVariant WGS for up to 50X\n",
      "8211545 \t NVIDIA Parabricks FQ2BAM WGS for up to 50X\n",
      "8422905 \t Sentieon LongRead for ONT\n",
      "2374431 \t Bases2Fastq for 2x150\n",
      "4974161 \t NVIDIA Parabricks FQ2BAM WGS for up to 30X\n",
      "7866315 \t scRNAseq with Salmon Alevin-fry\n",
      "4137328 \t Bases2Fastq for 2x75\n",
      "7709200 \t NVIDIA Parabricks Germline HaplotypeCaller WGS for up to 50X\n",
      "2450177 \t Sentieon Germline FASTQ WES for up to 300x\n",
      "5454617 \t GATK-BP Germline bam2vcf for 30x genome\n",
      "3412776 \t Sentieon Somatic WGS\n",
      "8434454 \t NVIDIA Parabricks Germline HaplotypeCaller WGS for up to 5X\n",
      "9701407 \t NVIDIA Parabricks Somatic Mutect2 WGS for up to 50X\n",
      "7112412 \t NVIDIA Parabricks BAM2FQ2BAM WGS for up to 50X\n",
      "9224188 \t Sentieon Germline BAM WGS for up to 32x\n",
      "1578479 \t Bases2Fastq for 2x300\n",
      "1830181 \t ESMFold for up to 800 residues\n",
      "1993486 \t NVIDIA Parabricks Germline DeepVariant WGS for up to 5X\n",
      "5232234 \t scRNAseq with KallistoBUStools\n",
      "4414139 \t Sentieon Germline FASTQ WGS for up to 32x\n"
     ]
    }
   ],
   "source": [
    "omics = boto3.client('omics')\n",
    "r2r_workflows = omics.list_workflows(type=\"READY2RUN\")\n",
    "r2r_workflows_items = r2r_workflows['items']\n",
    "\n",
    "for r2r_workflow_item in r2r_workflows_items:\n",
    "  print(r2r_workflow_item['id'], '\\t', r2r_workflow_item['name'])"
   ]
  },
  {
   "cell_type": "markdown",
   "id": "8227f711",
   "metadata": {},
   "source": [
    "We want to showcase the execution of a READY2RUN workflow.\n",
    "We select the (6094971, AlphaFold for 601-1200 residues) workflow for demo purposes."
   ]
  },
  {
   "cell_type": "code",
   "execution_count": 185,
   "id": "dd55397d-b88c-428e-bd1b-e348f9d81174",
   "metadata": {
    "tags": []
   },
   "outputs": [
    {
     "name": "stdout",
     "output_type": "stream",
     "text": [
      "{\n",
      "  \"arn\": \"arn:aws:omics:eu-west-1::workflow/6094971\",\n",
      "  \"creationTime\": \"2023-05-15 00:00:00+00:00\",\n",
      "  \"id\": \"6094971\",\n",
      "  \"name\": \"AlphaFold for 601-1200 residues\",\n",
      "  \"status\": \"ACTIVE\",\n",
      "  \"type\": \"READY2RUN\"\n",
      "}\n"
     ]
    }
   ],
   "source": [
    "workflow = [r2r_workflow_item for r2r_workflow_item in r2r_workflows_items if r2r_workflow_item[\"id\"] == \"6094971\" ][0]\n",
    "pretty_print(workflow)"
   ]
  },
  {
   "cell_type": "markdown",
   "id": "d23207af-90a4-4b97-b1c1-04a3a7cbdd14",
   "metadata": {},
   "source": [
    "We get the full details of the specific workflow, in order to examine it's list of parameters."
   ]
  },
  {
   "cell_type": "code",
   "execution_count": 186,
   "id": "11fa14f5-82d4-4790-859e-683d7acce796",
   "metadata": {
    "tags": []
   },
   "outputs": [],
   "source": [
    "workflow_details = omics.get_workflow(id=workflow['id'], type=\"READY2RUN\")"
   ]
  },
  {
   "cell_type": "markdown",
   "id": "a6fef23d-c56f-43da-9091-dff7107dc5da",
   "metadata": {
    "tags": []
   },
   "source": [
    "We get the full set of parameters per workflow, by examining its parameters template"
   ]
  },
  {
   "cell_type": "code",
   "execution_count": 187,
   "id": "4a0003dc-1830-4f51-bf16-4fe661f8fcac",
   "metadata": {
    "tags": []
   },
   "outputs": [
    {
     "name": "stdout",
     "output_type": "stream",
     "text": [
      "{\n",
      "  \"fasta_path\": {\n",
      "    \"description\": \"The S3 or Omics Storage URI of the input file in FASTA format. Only single-chain inputs are supported at this time.\"\n",
      "  }\n",
      "}\n"
     ]
    }
   ],
   "source": [
    "pretty_print(workflow_details['parameterTemplate'])"
   ]
  },
  {
   "cell_type": "markdown",
   "id": "35661270-b333-4a3e-b9cd-05443674111b",
   "metadata": {},
   "source": [
    "The specific workflow has one only parameter, the description of which is shown in the  output.<br>\n",
    "We can now run the workflow, as any other workflow through the Amazon Omics."
   ]
  },
  {
   "cell_type": "markdown",
   "id": "0eb3a3e8-f922-4788-afe7-d5c0fa5d8518",
   "metadata": {},
   "source": [
    "Get the current region, in which this notebook is operating."
   ]
  },
  {
   "cell_type": "code",
   "execution_count": null,
   "id": "90dcc958-669f-4235-beb7-3eb7e2970972",
   "metadata": {},
   "outputs": [],
   "source": []
  },
  {
   "cell_type": "code",
   "execution_count": null,
   "id": "2df6865b",
   "metadata": {
    "tags": []
   },
   "outputs": [],
   "source": [
    "\n",
    "input_uri = \"s3://aws-genomics-static-us-east-1/omics-tutorials/data/workflows/r2r/6094971/\"\n",
    "\n",
    "## NOTE: replace these S3 URIs with ones you have access to\n",
    "output_uri = \"s3://ktzouvan-omics-ireland/results\"\n",
    "\n",
    "run = omics.start_run(\n",
    "    workflowId=workflow['id'],\n",
    "    workflowType='READY2RUN',\n",
    "    name=\"Sample workflow run\",\n",
    "    roleArn=role['Role']['Arn'],\n",
    "    parameters={\n",
    "        \"input_file\": input_uri\n",
    "    },\n",
    "    outputUri=output_uri,\n",
    ")\n",
    "\n",
    "print(f\"running workflow {workflow['id']}, starting run {run['id']}\")\n",
    "try:\n",
    "    waiter = omics.get_waiter('run_running')\n",
    "    waiter.wait(id=run['id'], WaiterConfig={'Delay': 30, 'MaxAttempts': 60})\n",
    "\n",
    "    print(f\"run {run['id']} is running\")\n",
    "\n",
    "    waiter = omics.get_waiter('run_completed')\n",
    "    waiter.wait(id=run['id'], WaiterConfig={'Delay': 60, 'MaxAttempts': 60})\n",
    "\n",
    "    print(f\"run {run['id']} completed\")\n",
    "except botocore.exceptions.WaiterError as e:\n",
    "    print(e)"
   ]
  },
  {
   "cell_type": "markdown",
   "id": "6b888cf2",
   "metadata": {},
   "source": [
    "Once the run completes we can verify its status by either listing it:"
   ]
  },
  {
   "cell_type": "code",
   "execution_count": null,
   "id": "05da3d1b",
   "metadata": {},
   "outputs": [],
   "source": [
    "[_ for _ in omics.list_runs()['items'] if _['id'] == run['id']]"
   ]
  },
  {
   "cell_type": "markdown",
   "id": "579a2060",
   "metadata": {},
   "source": [
    "or getting its full details:"
   ]
  },
  {
   "cell_type": "code",
   "execution_count": null,
   "id": "1aaa3b99",
   "metadata": {},
   "outputs": [],
   "source": [
    "omics.get_run(id=run['id'])"
   ]
  },
  {
   "cell_type": "markdown",
   "id": "fc4ba10a",
   "metadata": {},
   "source": [
    "We can verify that the correct output was generated by listing the `outputUri` for the workflow run:"
   ]
  },
  {
   "cell_type": "code",
   "execution_count": null,
   "id": "0d813f10",
   "metadata": {},
   "outputs": [],
   "source": [
    "s3uri = urlparse(omics.get_run(id=run['id'])['outputUri'])\n",
    "boto3.client('s3').list_objects_v2(\n",
    "    Bucket=s3uri.netloc, \n",
    "    Prefix='/'.join([s3uri.path[1:], run['id']])\n",
    ")['Contents']"
   ]
  },
  {
   "cell_type": "markdown",
   "id": "45a4eecf",
   "metadata": {},
   "source": [
    "Workflows typically have multiple tasks. We can list workflow tasks with:"
   ]
  },
  {
   "cell_type": "code",
   "execution_count": null,
   "id": "adfa890f",
   "metadata": {},
   "outputs": [],
   "source": [
    "tasks = omics.list_run_tasks(id=run['id'])\n",
    "pprint(tasks['items'])"
   ]
  },
  {
   "cell_type": "markdown",
   "id": "85a436fb",
   "metadata": {},
   "source": [
    "and get specific task details with:"
   ]
  },
  {
   "cell_type": "code",
   "execution_count": null,
   "id": "8abe0bbf",
   "metadata": {},
   "outputs": [],
   "source": [
    "task = omics.get_run_task(id=run['id'], taskId=tasks['items'][0]['taskId'])\n",
    "pprint(task)"
   ]
  },
  {
   "cell_type": "markdown",
   "id": "ad0ff9b3",
   "metadata": {},
   "source": [
    "After running the cell above we should see that each task has an associated CloudWatch Logs LogStream. These capture any text generated by the workflow task that has been sent to either `STDOUT` or `STDERR`. These outputs are helpful for debugging any task failures and can be retrieved with:"
   ]
  },
  {
   "cell_type": "code",
   "execution_count": null,
   "id": "e7ba6e85",
   "metadata": {},
   "outputs": [],
   "source": [
    "events = boto3.client('logs').get_log_events(\n",
    "    logGroupName=\"/aws/omics/WorkflowLog\",\n",
    "    logStreamName=f\"run/{run['id']}/task/{task['taskId']}\"\n",
    ")\n",
    "for event in events['events']:\n",
    "    print(event['message'])"
   ]
  },
  {
   "cell_type": "code",
   "execution_count": null,
   "id": "75896517",
   "metadata": {},
   "outputs": [],
   "source": [
    "run_group = omics.create_run_group(\n",
    "    name=\"TestRunGroup\",\n",
    "    maxCpus=100,\n",
    "    maxDuration=600,\n",
    ")\n",
    "\n",
    "omics.get_run_group(id=run_group['id'])"
   ]
  },
  {
   "cell_type": "markdown",
   "id": "e666c096",
   "metadata": {},
   "source": [
    "One of the ways you can use a RunGroup is to run multiple iterations of a workflow - each with different input values. Below we'll define a simple Nextflow workflow that takes a simple string parameter that we can easily modify for multiple iterations."
   ]
  },
  {
   "cell_type": "code",
   "execution_count": null,
   "id": "9c8d6210",
   "metadata": {},
   "outputs": [],
   "source": [
    "os.makedirs('workflows/nf/sample', exist_ok=True)\n",
    "\n",
    "nf = dedent('''\n",
    "nextflow.enable.dsl = 2\n",
    "\n",
    "params.greeting = 'hello'\n",
    "params.addressee = null\n",
    "\n",
    "if (!params.addressee) exit 1, \"required parameter 'addressee' missing\"\n",
    "\n",
    "process Greet {\n",
    "    publishDir '/mnt/workflow/pubdir'\n",
    "    input:\n",
    "        val greeting\n",
    "        val addressee\n",
    "    \n",
    "    output:\n",
    "        path \"output\", emit: output_file\n",
    "    \n",
    "    script:\n",
    "        \"\"\"\n",
    "        echo \"${greeting} ${addressee}\" | tee output\n",
    "        \"\"\"\n",
    "}\n",
    "\n",
    "workflow {\n",
    "    Greet(params.greeting, params.addressee)\n",
    "}\n",
    "\n",
    "''').strip()\n",
    "\n",
    "with open('workflows/nf/sample/main.nf', 'wt') as f:\n",
    "    f.write(nf)"
   ]
  },
  {
   "cell_type": "markdown",
   "id": "7b5197b2",
   "metadata": {},
   "source": [
    "We'll use the `create_function` function we defined above to create an Omics Workflow from this definition:"
   ]
  },
  {
   "cell_type": "code",
   "execution_count": null,
   "id": "eeec94fe",
   "metadata": {},
   "outputs": [],
   "source": [
    "workflow = create_workflow(\n",
    "    'workflows/nf/sample',\n",
    "    parameters={\n",
    "        \"greeting\": {\n",
    "            \"description\": \"(string) greeting to use\",\n",
    "            \"optional\": True\n",
    "        },\n",
    "        \"addressee\": {\n",
    "            \"description\": \"(string) who to greet\"\n",
    "        }\n",
    "    },\n",
    "    name=\"GreetingsNF\",\n",
    "    description=\"Greetings Nextflow workflow\",\n",
    "    main=\"main.nf\"\n",
    ")\n",
    "pprint(workflow)"
   ]
  },
  {
   "cell_type": "markdown",
   "id": "42113ba4",
   "metadata": {},
   "source": [
    "We can now run our this workflow with our run group. We'll start several runs of the workflow concurrently, each with different inputs to distinguish them, to see how the run group works:"
   ]
  },
  {
   "cell_type": "code",
   "execution_count": null,
   "id": "1ea2e61c",
   "metadata": {},
   "outputs": [],
   "source": [
    "rg_runs = []\n",
    "run_inputs = [\n",
    "    {\"greeting\": \"Hello\", \"addressee\": \"Amazon\"},\n",
    "    {\"greeting\": \"Bonjour\", \"addressee\": \"Omics\"},\n",
    "    {\"greeting\": \"Hola\", \"addressee\": \"Workflows\"},\n",
    "]\n",
    "\n",
    "for run_num, run_input in enumerate(run_inputs):\n",
    "    run = omics.start_run(\n",
    "        workflowId=workflow['id'],\n",
    "        name=f\"{workflow['name']} - {run_num} :: {run_input}\",\n",
    "        roleArn=role['Role']['Arn'],\n",
    "        parameters=run_input,\n",
    "        outputUri=output_uri,\n",
    "        \n",
    "        runGroupId=run_group['id'],  # <-- here is where we specify the run group\n",
    "    )\n",
    "    \n",
    "    print(f\"({run_num}) workflow {workflow['id']}, run group {run_group['id']}, run {run['id']}, input {run_input}\")\n",
    "    rg_runs += [run]"
   ]
  },
  {
   "cell_type": "markdown",
   "id": "3f76e854",
   "metadata": {},
   "source": [
    "We can now list all the runs in the RunGroup and should see all of them transition from `PENDING` to `STARTING` at once.\n",
    "\n",
    "(run the following cell multiple times)"
   ]
  },
  {
   "cell_type": "code",
   "execution_count": null,
   "id": "8261a11b",
   "metadata": {},
   "outputs": [],
   "source": [
    "[(_['id'], _['status']) for _ in omics.list_runs(runGroupId=run_group['id'])['items']]"
   ]
  },
  {
   "cell_type": "code",
   "execution_count": null,
   "id": "c13cbb35",
   "metadata": {},
   "outputs": [],
   "source": []
  }
 ],
 "metadata": {
  "kernelspec": {
   "display_name": "conda_python3",
   "language": "python",
   "name": "conda_python3"
  },
  "language_info": {
   "codemirror_mode": {
    "name": "ipython",
    "version": 3
   },
   "file_extension": ".py",
   "mimetype": "text/x-python",
   "name": "python",
   "nbconvert_exporter": "python",
   "pygments_lexer": "ipython3",
   "version": "3.10.8"
  },
  "vscode": {
   "interpreter": {
    "hash": "31f2aee4e71d21fbe5cf8b01ff0e069b9275f58929596ceb00d14d90e3e16cd6"
   }
  }
 },
 "nbformat": 4,
 "nbformat_minor": 5
}
