{
 "cells": [
  {
   "cell_type": "code",
   "execution_count": null,
   "id": "efe1cb87-02ba-4919-a81f-9f163dd4f3c6",
   "metadata": {},
   "outputs": [],
   "source": [
    "# import dependencies\n",
    "import boto3"
   ]
  },
  {
   "cell_type": "code",
   "execution_count": null,
   "id": "b960b26a-ecc4-417a-9ded-aa2e2672d651",
   "metadata": {
    "tags": []
   },
   "outputs": [],
   "source": [
    "# Get the fully qualified ARN from role name\n",
    "def get_role_arn(role_name):\n",
    "    try:\n",
    "        iam = boto3.resource('iam')\n",
    "        role = iam.Role(role_name)\n",
    "        role.load()  # calls GetRole to load attributes\n",
    "    except ClientError:\n",
    "        print(\"Couldn't get role named %s.\"%role_name)\n",
    "        raise\n",
    "    else:\n",
    "        return role.arn"
   ]
  },
  {
   "cell_type": "code",
   "execution_count": null,
   "id": "c7481a58-1c8d-4a5a-b4b5-ec0e8453ba24",
   "metadata": {},
   "outputs": [],
   "source": [
    "# recreates a policy\n",
    "# if policy is attached to roles, it is firstly detached.\n",
    "# if policy has additional versions ot the default, additional versions are deleted\n",
    "\n",
    "def recreate_policy(policy_name, policy_rights):\n",
    "    try:\n",
    "        # format policy ARN based on policy name\n",
    "        sts_client = boto3.client('sts')\n",
    "        account_id = sts_client.get_caller_identity()['Account']\n",
    "        policy_arn = f'arn:aws:iam::{account_id}:policy/{policy_name}'\n",
    "                \n",
    "        iam_client = boto3.client('iam')\n",
    "       \n",
    "        # try to get policy\n",
    "        policy_exists = True\n",
    "        try:\n",
    "            iam_client.get_policy(PolicyArn=policy_arn)\n",
    "        except botocore.exceptions.ClientError as get_policy_ex:\n",
    "                if get_policy_ex.response[\"Error\"][\"Code\"] == \"NoSuchEntity\":\n",
    "                    policy_exists = False\n",
    "                else:\n",
    "                    raise\n",
    "                    \n",
    "        # if policy exists, delete it            \n",
    "        if policy_exists:\n",
    "            # get policy versions and delete all non-default versions. \n",
    "            # Default version is deleted when policy itself is deleted.\n",
    "            policy_versions_response = iam_client.list_policy_versions(PolicyArn=policy_arn)\n",
    "            versions = policy_versions_response['Versions']\n",
    "            for version in versions:\n",
    "                version_id = version['VersionId']\n",
    "                is_default = version['IsDefaultVersion']\n",
    "                if not is_default:\n",
    "                    iam_client.delete_policy_version(PolicyArn=policy_arn, VersionId=version_id)\n",
    "\n",
    "            # detach all roles from policy (requirement for policy deletion)\n",
    "            policy_entities = iam_client.list_entities_for_policy(PolicyArn=policy_arn, EntityFilter='Role')\n",
    "            attached_roles = policy_entities['PolicyRoles']\n",
    "            role_names = [role['RoleName'] for role in attached_roles]\n",
    "            for role_name in role_names:\n",
    "                iam_client.detach_role_policy(RoleName=role_name, PolicyArn=policy_arn)\n",
    "                \n",
    "            #  delete policy. If it does not exist, handle error internally and continue\n",
    "            iam_client.delete_policy(PolicyArn=policy_arn)\n",
    "        \n",
    "        # create policy\n",
    "        create_policy_response = iam_client.create_policy(PolicyName=omics_iam_policy_name, \n",
    "                           Description=\"Policy for Amazon Omics demo\", \n",
    "                           PolicyDocument=json.dumps(policy_rights))\n",
    "        \n",
    "        return create_policy_response\n",
    "    \n",
    "    except botocore.exceptions.ClientError:\n",
    "        print(\"Couldn't re create policy named %s.\"%policy_name)\n",
    "        raise"
   ]
  },
  {
   "cell_type": "code",
   "execution_count": null,
   "id": "ea0c8218-88a0-4faa-a8af-62a79ae6ea89",
   "metadata": {},
   "outputs": [],
   "source": [
    "def omics_cleanup():\n",
    "    \n",
    "# check dependencies and delete:\n",
    "\n",
    "# 1.delete annotation stores\n",
    "# 1.delete_annotation_store_response = omics_client.delete_annotation_store(name='tutorial_annotations_20230604t091130', force=True)\n",
    "\n",
    "# 2.delete variant stores\n",
    "# 2.delete_variant_store_response = omics_client.delete_variant_store(name='tutorial_variants_20230604t095034', force=True)\n",
    "# 2.delete_variant_store_response = omics_client.delete_variant_store(name='tutorial_variants_20230604t091130', force=True)\n",
    "\n",
    "# 3. delete sequence store read sets\n",
    "# delete_sequence_store_readsets_response = omics_client.batch_delete_read_set(ids=['8707322872','8688949133','2422007294','923 9599169','2898902638','4174230264','4592435828','5246664496'], sequenceStoreId='4564575745')\n",
    "\n",
    "# 4. delete sequence stores\n",
    "# 4.delete_sequence_store_response = omics_client.delete_sequence_store(id='4564575745')\n",
    "\n",
    "# 5. del_reference_response = omics_client.delete_reference(id='3647538932',referenceStoreId='1047795911')\n",
    "\n",
    "# 6.delete reference stores\n",
    "# 6.del_reference_store_response = omics_client.delete_reference_store(id='1047795911')"
   ]
  }
 ],
 "metadata": {
  "kernelspec": {
   "display_name": "conda_python3",
   "language": "python",
   "name": "conda_python3"
  },
  "language_info": {
   "codemirror_mode": {
    "name": "ipython",
    "version": 3
   },
   "file_extension": ".py",
   "mimetype": "text/x-python",
   "name": "python",
   "nbconvert_exporter": "python",
   "pygments_lexer": "ipython3",
   "version": "3.10.8"
  }
 },
 "nbformat": 4,
 "nbformat_minor": 5
}
